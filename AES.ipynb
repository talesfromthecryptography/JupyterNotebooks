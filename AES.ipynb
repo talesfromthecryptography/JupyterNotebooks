{
 "cells": [
  {
   "cell_type": "markdown",
   "metadata": {},
   "source": [
    "# AES"
   ]
  },
  {
   "cell_type": "code",
   "execution_count": 282,
   "metadata": {},
   "outputs": [],
   "source": [
    "from IPython.display import display, Math, Latex\n",
    "import functools\n",
    "import itertools"
   ]
  },
  {
   "cell_type": "markdown",
   "metadata": {},
   "source": [
    "## The Galois field $GF(2^8)$\n",
    "\n",
    "AUS uses field arithmetic in $GF(2^8)$, represented by polynomials modulo the irreducible $x^8 + x^4+ x^3+x+1$. That is, coefficients are in $\\mathbb{Z}_2$, so they can be stored as bits. The polynomials in the field all have degree less than $8$. So they can be stored as bytes, and arithmetic is all implemented as byte operations.\n",
    "\n",
    "In any Galois field $GF(p^k)$, addition is just polynomial addition with coefficients in $\\mathbb{Z}_k$. For AES, this addition in $\\mathbb{Z}_2$ is just exclusive or. For example, in Python ```^``` is xor.\n"
   ]
  },
  {
   "cell_type": "code",
   "execution_count": 260,
   "metadata": {},
   "outputs": [
    {
     "data": {
      "text/plain": [
       "'0x31'"
      ]
     },
     "execution_count": 260,
     "metadata": {},
     "output_type": "execute_result"
    }
   ],
   "source": [
    "hex(0x15 ^ 0x24)"
   ]
  },
  {
   "cell_type": "markdown",
   "metadata": {},
   "source": [
    "Define the hex value corresponding to our irreducible polynomial."
   ]
  },
  {
   "cell_type": "code",
   "execution_count": 261,
   "metadata": {},
   "outputs": [],
   "source": [
    "m = 0x11b"
   ]
  },
  {
   "cell_type": "markdown",
   "metadata": {},
   "source": [
    "How do you know ```0x11b``` is correct? This is a little helper to render bit strings has polynomials"
   ]
  },
  {
   "cell_type": "code",
   "execution_count": 262,
   "metadata": {},
   "outputs": [],
   "source": [
    "def x_term(d):\n",
    "    if d == 0:\n",
    "        return \"1\"\n",
    "    elif d == 1:\n",
    "        return \"x\"\n",
    "    else:\n",
    "        return \"x^{%d}\"%d\n",
    "    \n",
    "def latex_poly(p):\n",
    "    if p == 0:\n",
    "        return \"0\"\n",
    "\n",
    "    d = 0\n",
    "    while p%2 == 0:\n",
    "        d += 1\n",
    "        p >>= 1\n",
    "    \n",
    "    s = x_term(d)\n",
    "    \n",
    "    p >>= 1\n",
    "    d += 1\n",
    "    while p != 0:\n",
    "        if p%2==1:\n",
    "            s = \"%s + %s\"%(x_term(d),s)\n",
    "        p >>=1\n",
    "        d += 1\n",
    "    return s\n",
    "    "
   ]
  },
  {
   "cell_type": "code",
   "execution_count": 263,
   "metadata": {},
   "outputs": [
    {
     "data": {
      "text/latex": [
       "$\\displaystyle x^{8} + x^{4} + x^{3} + x + 1$"
      ],
      "text/plain": [
       "<IPython.core.display.Math object>"
      ]
     },
     "metadata": {},
     "output_type": "display_data"
    }
   ],
   "source": [
    "display(Math(latex_poly(m)))"
   ]
  },
  {
   "cell_type": "markdown",
   "metadata": {},
   "source": [
    "Now polynomial multiplication in the ring $\\mathbb{Z}_2$ is pretty simple. For $a\\cdot b$,\n",
    "use $b$ to determine which muplitples of $a$ should be added as partial products."
   ]
  },
  {
   "cell_type": "code",
   "execution_count": 264,
   "metadata": {},
   "outputs": [],
   "source": [
    "def Z2_mult(a,b):\n",
    "    res = 0\n",
    "    p = b\n",
    "    while a != 0:\n",
    "        if a%2 == 1:\n",
    "            res ^= p\n",
    "        a >>= 1 # divide by x\n",
    "        p <<= 1 # multiply by x\n",
    "    return res\n",
    "    "
   ]
  },
  {
   "cell_type": "code",
   "execution_count": 265,
   "metadata": {},
   "outputs": [
    {
     "data": {
      "text/latex": [
       "$\\displaystyle (x^{4} + 1)\\cdot (x^{5} + x^{4} + x) = x^{9} + x^{8} + x^{4} + x$"
      ],
      "text/plain": [
       "<IPython.core.display.Math object>"
      ]
     },
     "metadata": {},
     "output_type": "display_data"
    }
   ],
   "source": [
    "display(Math(\"(%s)\\cdot (%s) = %s\"%(latex_poly(0x11), latex_poly(0x32), latex_poly(Z2_mult(0x11,0x32)))))"
   ]
  },
  {
   "cell_type": "markdown",
   "metadata": {},
   "source": [
    "But we want modular multiplication"
   ]
  },
  {
   "cell_type": "code",
   "execution_count": 266,
   "metadata": {},
   "outputs": [],
   "source": [
    "def AES_mult(a,b):\n",
    "    res = 0\n",
    "    p = b\n",
    "    while a != 0:\n",
    "        if a%2 == 1:\n",
    "            res ^= p\n",
    "        a >>= 1 # divide by x (discard constant coefficient)\n",
    "        p <<= 1\n",
    "        if p&0x100:\n",
    "            p ^= 0x11b\n",
    "\n",
    "    return res"
   ]
  },
  {
   "cell_type": "code",
   "execution_count": 267,
   "metadata": {},
   "outputs": [
    {
     "data": {
      "text/plain": [
       "'0xc1'"
      ]
     },
     "execution_count": 267,
     "metadata": {},
     "output_type": "execute_result"
    }
   ],
   "source": [
    "hex(AES_mult(0x57,0x83))"
   ]
  },
  {
   "cell_type": "code",
   "execution_count": 268,
   "metadata": {},
   "outputs": [
    {
     "data": {
      "text/latex": [
       "$\\displaystyle (x^{6} + x^{4} + x^{2} + x + 1)\\cdot (x^{7} + x + 1) = x^{7} + x^{6} + 1$"
      ],
      "text/plain": [
       "<IPython.core.display.Math object>"
      ]
     },
     "metadata": {},
     "output_type": "display_data"
    }
   ],
   "source": [
    "display(Math(\"(%s)\\cdot (%s) = %s\"%(latex_poly(0x57), latex_poly(0x83), latex_poly(AES_mult(0x57,0x83)))))"
   ]
  },
  {
   "cell_type": "markdown",
   "metadata": {},
   "source": [
    "Now that we have this field worked out, we will only use it explicitly as a ring. Multiplicative inverses play a role only in the _S-box_ phases of the algorithm.\n",
    "\n",
    "Nevertheless, we can ask whether the irreducible is primitive:"
   ]
  },
  {
   "cell_type": "code",
   "execution_count": 269,
   "metadata": {},
   "outputs": [
    {
     "data": {
      "text/plain": [
       "51"
      ]
     },
     "execution_count": 269,
     "metadata": {},
     "output_type": "execute_result"
    }
   ],
   "source": [
    "powers = set()\n",
    "power = 1\n",
    "for i in range(255):\n",
    "    powers.add(power)\n",
    "    # power = power*x\n",
    "    power <<= 1\n",
    "    if power&0x100:\n",
    "        power ^= 0x11b\n",
    "len(powers)"
   ]
  },
  {
   "cell_type": "markdown",
   "metadata": {},
   "source": [
    "Nope. This would be 255 if the modulus were primitive. Oh well.\n",
    "\n",
    "Let's compute the multiplicative inverses anyway. There are only 255 of them.\n",
    "\n",
    "I'm lazy, and we only need to do this once. So ..."
   ]
  },
  {
   "cell_type": "code",
   "execution_count": 270,
   "metadata": {},
   "outputs": [],
   "source": [
    "inv_table = {}\n",
    "for i in range(1,256):\n",
    "    for j in range(1,i+1):\n",
    "        if AES_mult(i,j) == 0x01:\n",
    "            inv_table[i]=j\n",
    "            inv_table[j] = i\n"
   ]
  },
  {
   "cell_type": "code",
   "execution_count": 271,
   "metadata": {},
   "outputs": [
    {
     "name": "stdout",
     "output_type": "stream",
     "text": [
      "Life is good\n"
     ]
    }
   ],
   "source": [
    "ok = True\n",
    "for i in range(1,256):\n",
    "    if AES_mult(i,inv_table[i]) != 1:\n",
    "        ok = False\n",
    "        print(\"Hey. This is wrong %x * %x != 1\"%(i,inv_table[i]))\n",
    "if ok:\n",
    "    print(\"Life is good\")"
   ]
  },
  {
   "cell_type": "markdown",
   "metadata": {},
   "source": [
    "## The polynomial ring $GF(2^8)[x]/(x^4+1)$\n",
    "\n",
    "$GF(2^8)[x]$ denotes the _ring_ of polynomials with coefficients in $GF(2^8)$. This is only a ring, not a field. Dividing a ring by an element of that ring (in this case, a $x^4+1$) means we take all elements modulo that element. In effect, we are saying that for our purposes, $x^4+1 \\equiv 0$. \n",
    "\n",
    "### What this actually does to elements of $GF(2^8)[x]$\n",
    "\n",
    "Apparently, $x^4 \\equiv -1 \\pmod {x^4 + 1}$. But remember that the coefficients are in $GF(2^8)$,\n",
    "and in that field $-1 = 1$. So actually, the important point is that $$x^4\\equiv 1 \\pmod {x^4 + 1}.$$\n",
    "\n",
    "So suppose we want to reduce some element of $GF(2^8)[x]$ modulo $x^4+1$. For example, to reduce\n",
    "$$a_9x^9+a_8x^8+a_7x^7+a_6x^6+a_5x^5+a_4x^4+a_3x^3+a_2x^2+a_1x+a_0,$$\n",
    "we write as (apology for the format)\n",
    "\n",
    "```\n",
    "                   a_9x^9 + a_8x^8\n",
    "+a_7x^7 + a_6x^6 + a_5x^5 + a_4x^4\n",
    "+a_3x^3 + a_2x^2 + a_1x   + a_0\n",
    "```\n",
    "\n",
    "Addition is just xor, so we simply add columns.\n",
    "\n",
    "Hence multiplication in the ring $GF(2^8)[x]/x^4+1$ has a very simple algorithm.\n",
    "\n"
   ]
  },
  {
   "cell_type": "code",
   "execution_count": 363,
   "metadata": {},
   "outputs": [],
   "source": [
    "def AES_poly_mult(p,q):\n",
    "    res = [0,0,0,0]\n",
    "    for i in range(4):\n",
    "        for j in range(4):\n",
    "            res[(i+j)%4] ^= AES_mult(p[i],q[j])\n",
    "        \n",
    "    return res"
   ]
  },
  {
   "cell_type": "markdown",
   "metadata": {},
   "source": [
    "An alternative that can be adapted to faster operation if poynomials are stored as ```uint32_t```."
   ]
  },
  {
   "cell_type": "code",
   "execution_count": 365,
   "metadata": {},
   "outputs": [],
   "source": [
    "def AES_poly_mult_alt(p,q):\n",
    "    res = [0,0,0,0]\n",
    "    for k in range(4):\n",
    "        for i in range(4):\n",
    "            res[k] ^= AES_mult(p[i],q[(-i)%4])\n",
    "    return res"
   ]
  },
  {
   "cell_type": "markdown",
   "metadata": {},
   "source": [
    "The polynomial $x^4_1$ is definitely not irreducible. **Explain ...**\n",
    "\n",
    "Nevertheless, there are polynomials that are invertible in this ring.\n",
    "\n",
    "The following is a test of AES_poly_mult. Result should be $(1,0,0,0)$."
   ]
  },
  {
   "cell_type": "code",
   "execution_count": 325,
   "metadata": {},
   "outputs": [
    {
     "data": {
      "text/plain": [
       "(1, 0, 0, 0)"
      ]
     },
     "execution_count": 325,
     "metadata": {},
     "output_type": "execute_result"
    }
   ],
   "source": [
    "tuple(AES_poly_mult([0x02,0x01,0x01,0x03],[0x0e,0x09,0x0d,0x0b]))"
   ]
  },
  {
   "cell_type": "code",
   "execution_count": 326,
   "metadata": {},
   "outputs": [
    {
     "data": {
      "text/plain": [
       "(11, 14, 9, 13)"
      ]
     },
     "execution_count": 326,
     "metadata": {},
     "output_type": "execute_result"
    }
   ],
   "source": [
    "tuple(AES_poly_mult([0x00,0x01,0x00,0x00],[0x0e,0x09,0x0d,0x0b]))"
   ]
  },
  {
   "cell_type": "markdown",
   "metadata": {},
   "source": [
    "The AES algorithm only employs two pairs of invertible elements:\n",
    "\n",
    "*  $ex^3 + 9x^2+dx + b$ and $3x^3+x^2+x+2$\n",
    "* $x^3$ and $x$ (remember $x^3\\cdot x = x^4\\equiv 1 \\pmod {x^4+1}$)\n",
    "\n",
    "The later pair simply rotates coefficients."
   ]
  },
  {
   "cell_type": "markdown",
   "metadata": {},
   "source": [
    "## The ring $\\mathbb{Z}_2[x]/(x^8+1)$\n",
    "\n",
    "The ring of polynomials over $\\mathbb{Z}_2$ is also used in one place in AES. \n",
    "\n",
    "The coefficients share a property with all rings of polynomials over Galois fields $GF(2^k)$. Namely, $$p+p = 0.$$\n",
    "\n",
    "So for any $k$, \n",
    "\n",
    "$$x^k\\equiv 1\\pmod {x^k+1}$$\n",
    "\n",
    "Evidently if $k$ is even, this is not an irreducible polynomial, but we don't need it to be. This does, however, simplify multiplication just as it does for $GF(2^8)[x]/x^4+1$.\n",
    "\n",
    "AES only uses arithmetic in the ring $\\mathbb{Z}_2[x]/(x^8+1)$ in one way, so obtain an invertible affine transformation:\n",
    "\n",
    "$$T(p) = (x^4+1)p + 0x63 \\bmod {x^8+1}$$\n",
    "\n",
    "This looks like a non-linear transformation, but remember that $x^4+1$ is really just a constant in $\\mathbb{Z}_2[x]/(x^8+1)$.\n",
    "\n",
    "So this is really affine. And it is invertible. Think about this in reals:\n",
    "\n",
    "$$y = ax + b\\quad \\text{iff}\\quad (y-b)/a = x.$$\n",
    "\n",
    "The same thing works here, so long and the coefficient $a$ is invertible. In our situation,\n",
    "\n",
    "$$(x^4+1)(x^4+1) = x^8 + 2x^4+1 \\equiv 1\\bmod{x^8+1}$$\n",
    "\n",
    "So the tranformation $T$ has as its inverse:\n",
    "\n",
    "$$T^{-1}(p) = (x^4+1)p - 0x63 \\bmod {x^8+1}.$$\n",
    "\n",
    "__Hang on!__ $-c$ and $c$ are the same. So $T = T^{-1}$. Or if you prefer, $T^2 = I$. \n",
    "\n"
   ]
  },
  {
   "cell_type": "markdown",
   "metadata": {},
   "source": [
    "The product $(x^4 + 1)p$ is really simple. We just rotate the 8 coefficients of p by 4, and add to p (that is, xor).\n",
    "\n",
    "So $T$ is easy to code."
   ]
  },
  {
   "cell_type": "code",
   "execution_count": 327,
   "metadata": {},
   "outputs": [],
   "source": [
    "def T(p):\n",
    "    return ((p&0xf)<<4 & (p>>4)&0x0f)^ p ^ 0x63"
   ]
  },
  {
   "cell_type": "markdown",
   "metadata": {},
   "source": [
    "Now AES uses $T$ and the following function defined in $GF(2^8)$.\n",
    "\n",
    "Let $$J(p) = \\begin{cases}\n",
    "                0 & p = 0\\\\\n",
    "                p^{-1} & \\text{otherwise}\n",
    "            \\end{cases}\n",
    "        $$"
   ]
  },
  {
   "cell_type": "code",
   "execution_count": 328,
   "metadata": {},
   "outputs": [],
   "source": [
    "def J(p):\n",
    "    if p == 0:\n",
    "        return p\n",
    "    else:\n",
    "        return inv_table[p]\n",
    "\n",
    "def S(p):\n",
    "    return T(J(p))"
   ]
  },
  {
   "cell_type": "markdown",
   "metadata": {},
   "source": [
    "Crucially, $J^2 = I$ and $T^2=I$ (where $I$ is the identity function).  So the inverse of $S$ is $JT$."
   ]
  },
  {
   "cell_type": "code",
   "execution_count": 329,
   "metadata": {},
   "outputs": [],
   "source": [
    "def Sinv(q):\n",
    "    return J(T(q))"
   ]
  },
  {
   "cell_type": "code",
   "execution_count": 330,
   "metadata": {},
   "outputs": [
    {
     "data": {
      "text/plain": [
       "240"
      ]
     },
     "execution_count": 330,
     "metadata": {},
     "output_type": "execute_result"
    }
   ],
   "source": [
    "S(Sinv(240))"
   ]
  },
  {
   "cell_type": "markdown",
   "metadata": {},
   "source": [
    "AES implements uses S and Sinv as look up tables."
   ]
  },
  {
   "cell_type": "code",
   "execution_count": 331,
   "metadata": {},
   "outputs": [],
   "source": [
    "SBox = [S(p) for p in range(0x100)]\n",
    "SBoxInv = [Sinv(q) for q in range(0x100)]"
   ]
  },
  {
   "cell_type": "code",
   "execution_count": 332,
   "metadata": {},
   "outputs": [
    {
     "data": {
      "text/plain": [
       "69"
      ]
     },
     "execution_count": 332,
     "metadata": {},
     "output_type": "execute_result"
    }
   ],
   "source": [
    "SBox[SBoxInv[69]]"
   ]
  },
  {
   "cell_type": "markdown",
   "metadata": {},
   "source": [
    "## AES States\n",
    "\n",
    "AES performs a block cipher that transforms 128 bits into 128 bits.\n",
    "\n",
    "Internally, the block of 128 bits is organized into a $4\\times 4$ array of bytes:\n",
    "\n",
    "```\n",
    "s_00   s_01   s_02   s_03\n",
    "s_10   s_11   s_12   s_13\n",
    "s_20   s_21   s_22   s_23\n",
    "s_30   s_31   s_32   2_33\n",
    "```\n",
    "\n",
    "All the mathematics we have collected above is used to transform the block in possible ways:\n",
    "\n",
    "1. Each $s_{ij}$ is substituted using SBox. Inverse uses SBoxInv.\n",
    "2. Each column, interpreted as an element of $GF(2^8)[x]/x^4+1$, is multiplied by $𝑒𝑥^3+9𝑥^2+𝑑𝑥+𝑏$. The inverse is given by multiplying by $3x^3+x^2+x+2$.\n",
    "3. Each row is interpreted as an element of $GF(2^8)[x]/x^4+1$. Row $i$ is multiplied by $x^i$.\n",
    "The effect is to rotate row $i$ by $i$ bytes. The inverse multiplies row i by $x^{4-i}$.\n",
    "4. Each column $j$, interpreted as an element of $GF(2^8)/x^4+1$, has an associated \"key schedule\" value $w_i$. This is added to the column. Because $w_i+w_i = 0$ (in this field), this operation is its own inverse.\n",
    "\n",
    "We take these one at a time.\n",
    "\n",
    "Operations 2 and 4 will be faster if the state is actually reprented as an array of columns, not as an array of rows. And although 3 appears to be an operation in the ring $GF(2^8)[x]/x^4+1$, it is really just rotating the elements in a row. So 3 will get very little advantage by storing the state as an array of rows. So we choose to think of a state as consisting of columns ```s = [s_0, s_1, s_2, s_3]``` and each entry is an array of four bytes. \n"
   ]
  },
  {
   "cell_type": "code",
   "execution_count": 333,
   "metadata": {},
   "outputs": [],
   "source": [
    "def SubstBytes(s):\n",
    "    for c in range(4):\n",
    "        for c in range(4):\n",
    "            s[c][r] = SBox[s[c][r]]\n",
    "\n",
    "def SustBytesInv(s):\n",
    "    for c in range(4):\n",
    "        for r in range(4):\n",
    "            s[c][r] = SBoxInv[s[c][r]]"
   ]
  },
  {
   "cell_type": "code",
   "execution_count": 334,
   "metadata": {},
   "outputs": [],
   "source": [
    "def MixColumns(s):\n",
    "    for c in range(4):\n",
    "        s[c] = AES_poly_mult(mixing_p, s[c])\n",
    "        \n",
    "def MixColumnsInv(s):\n",
    "    for c in range(4):\n",
    "        s[c] = AES_poly_mult(unmixing_p, s[c])"
   ]
  },
  {
   "cell_type": "code",
   "execution_count": 368,
   "metadata": {},
   "outputs": [],
   "source": [
    "def ShiftRows(s):\n",
    "    \n",
    "    for r in range(1,4): # We do nothing to the 0th row, so skip that\n",
    "        s[0][r],s[1][r],s[2][r],s[3][r] = \\\n",
    "        s[r][r], s[(r+1)&0x3][r], s[(r+2)&0x3][r], s[(r+3)&0x3][r]"
   ]
  },
  {
   "cell_type": "code",
   "execution_count": 369,
   "metadata": {},
   "outputs": [],
   "source": [
    "def AddRoundKey(s,w):\n",
    "    for c in range(4):\n",
    "        for r in range(4):\n",
    "            s[c][r] ^= w[r]"
   ]
  },
  {
   "cell_type": "code",
   "execution_count": null,
   "metadata": {},
   "outputs": [],
   "source": []
  }
 ],
 "metadata": {
  "celltoolbar": "Raw Cell Format",
  "kernelspec": {
   "display_name": "Python 3",
   "language": "python",
   "name": "python3"
  },
  "language_info": {
   "codemirror_mode": {
    "name": "ipython",
    "version": 3
   },
   "file_extension": ".py",
   "mimetype": "text/x-python",
   "name": "python",
   "nbconvert_exporter": "python",
   "pygments_lexer": "ipython3",
   "version": "3.6.9"
  }
 },
 "nbformat": 4,
 "nbformat_minor": 2
}
