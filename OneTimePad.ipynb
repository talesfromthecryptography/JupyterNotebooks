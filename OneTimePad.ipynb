{
 "cells": [
  {
   "cell_type": "markdown",
   "metadata": {},
   "source": [
    "# One time pads\n",
    "\n",
    "Suppose Alice and Bob have access to exactly the same random byte"
   ]
  },
  {
   "cell_type": "code",
   "execution_count": 12,
   "metadata": {},
   "outputs": [],
   "source": [
    "import random"
   ]
  },
  {
   "cell_type": "code",
   "execution_count": 13,
   "metadata": {},
   "outputs": [],
   "source": [
    "secret = random.randint(0,255)"
   ]
  },
  {
   "cell_type": "code",
   "execution_count": 14,
   "metadata": {},
   "outputs": [
    {
     "data": {
      "text/plain": [
       "'0x45'"
      ]
     },
     "execution_count": 14,
     "metadata": {},
     "output_type": "execute_result"
    }
   ],
   "source": [
    "hex(secret)"
   ]
  },
  {
   "cell_type": "markdown",
   "metadata": {},
   "source": [
    "Then Alice can send a byte to Bob safely."
   ]
  },
  {
   "cell_type": "code",
   "execution_count": 15,
   "metadata": {},
   "outputs": [
    {
     "data": {
      "text/plain": [
       "'0x71'"
      ]
     },
     "execution_count": 15,
     "metadata": {},
     "output_type": "execute_result"
    }
   ],
   "source": [
    "alice_msg = 0x34 # Alices message\n",
    "cipher = alice_msg ^ secret\n",
    "hex(cipher)"
   ]
  },
  {
   "cell_type": "markdown",
   "metadata": {},
   "source": [
    "Bob recovers the original message by the same method"
   ]
  },
  {
   "cell_type": "code",
   "execution_count": 17,
   "metadata": {},
   "outputs": [
    {
     "data": {
      "text/plain": [
       "'0x34'"
      ]
     },
     "execution_count": 17,
     "metadata": {},
     "output_type": "execute_result"
    }
   ],
   "source": [
    "bob_msg = cipher ^ secret\n",
    "hex(bob_msg)"
   ]
  },
  {
   "cell_type": "markdown",
   "metadata": {},
   "source": [
    "Now suppose Alice and Bob have access to the exact same stream of random bytes "
   ]
  },
  {
   "cell_type": "code",
   "execution_count": 25,
   "metadata": {},
   "outputs": [],
   "source": [
    "random.seed(2324)"
   ]
  },
  {
   "cell_type": "code",
   "execution_count": 26,
   "metadata": {},
   "outputs": [
    {
     "name": "stdout",
     "output_type": "stream",
     "text": [
      "cb\n",
      "a9\n",
      "36\n",
      "89\n",
      "9c\n",
      "c4\n",
      "c2\n",
      "9e\n",
      "7e\n",
      "3f\n"
     ]
    }
   ],
   "source": [
    "for i in range(10):\n",
    "    print(\"%x\"%random.randint(0,255))"
   ]
  },
  {
   "cell_type": "markdown",
   "metadata": {},
   "source": [
    "So if Alice and Bob both set ```random.seed( ...)``` to the same value, they obtain the same sequence of random bytes.\n",
    "\n",
    "Now Alice can encrypt a long message by mapping the one byte method across all bytes:"
   ]
  },
  {
   "cell_type": "code",
   "execution_count": 28,
   "metadata": {},
   "outputs": [],
   "source": [
    "seed = 4993745 # something agreed to between Alice and Bob"
   ]
  },
  {
   "cell_type": "code",
   "execution_count": 48,
   "metadata": {},
   "outputs": [],
   "source": [
    "Alice_msg = \"Keep the car running, and wait for instructions.\"\n",
    "random.seed(seed)\n",
    "\n",
    "cipher = list(map(lambda x: ord(x) ^ random.randint(0,255), Alice_msg))"
   ]
  },
  {
   "cell_type": "code",
   "execution_count": 49,
   "metadata": {},
   "outputs": [
    {
     "data": {
      "text/plain": [
       "[239,\n",
       " 247,\n",
       " 191,\n",
       " 78,\n",
       " 118,\n",
       " 93,\n",
       " 79,\n",
       " 233,\n",
       " 8,\n",
       " 233,\n",
       " 150,\n",
       " 188,\n",
       " 83,\n",
       " 170,\n",
       " 7,\n",
       " 175,\n",
       " 62,\n",
       " 220,\n",
       " 209,\n",
       " 100,\n",
       " 186,\n",
       " 76,\n",
       " 111,\n",
       " 71,\n",
       " 77,\n",
       " 77,\n",
       " 7,\n",
       " 72,\n",
       " 144,\n",
       " 247,\n",
       " 39,\n",
       " 79,\n",
       " 233,\n",
       " 234,\n",
       " 245,\n",
       " 180,\n",
       " 167,\n",
       " 208,\n",
       " 216,\n",
       " 56,\n",
       " 239,\n",
       " 8,\n",
       " 232,\n",
       " 66,\n",
       " 195,\n",
       " 122,\n",
       " 159,\n",
       " 94]"
      ]
     },
     "execution_count": 49,
     "metadata": {},
     "output_type": "execute_result"
    }
   ],
   "source": [
    "cipher"
   ]
  },
  {
   "cell_type": "markdown",
   "metadata": {},
   "source": [
    "Bob recovers the message by the same process."
   ]
  },
  {
   "cell_type": "code",
   "execution_count": 60,
   "metadata": {},
   "outputs": [],
   "source": [
    "random.seed(seed)\n",
    "\n",
    "# Python joins iterated characters by ''.join(...).\n",
    "Bob_msg = ''.join((map(lambda x: chr(x ^ random.randint(0,255)), cipher)))"
   ]
  },
  {
   "cell_type": "code",
   "execution_count": 61,
   "metadata": {},
   "outputs": [
    {
     "data": {
      "text/plain": [
       "'Keep the car running, and wait for instructions.'"
      ]
     },
     "execution_count": 61,
     "metadata": {},
     "output_type": "execute_result"
    }
   ],
   "source": [
    "Bob_msg"
   ]
  },
  {
   "cell_type": "markdown",
   "metadata": {},
   "source": [
    "By the way, here is the cipher as a string"
   ]
  },
  {
   "cell_type": "code",
   "execution_count": 63,
   "metadata": {},
   "outputs": [
    {
     "data": {
      "text/plain": [
       "\"ï÷¿Nv]Oé\\x08é\\x96¼Sª\\x07¯>ÜÑdºLoGMM\\x07H\\x90÷'Oéêõ´§ÐØ8ï\\x08èBÃz\\x9f^\""
      ]
     },
     "execution_count": 63,
     "metadata": {},
     "output_type": "execute_result"
    }
   ],
   "source": [
    "''.join(map(chr,cipher))"
   ]
  },
  {
   "cell_type": "markdown",
   "metadata": {},
   "source": [
    "Assuming that ```random.randint()``` produces statistically random, uniformly distributed bytes, the cipher is also a sequence of random, uniformly distributed bytes. It is indistinguishable from coin flipping. And the only way to decrypt it is to use the same stream of "
   ]
  }
 ],
 "metadata": {
  "kernelspec": {
   "display_name": "Python 3",
   "language": "python",
   "name": "python3"
  },
  "language_info": {
   "codemirror_mode": {
    "name": "ipython",
    "version": 3
   },
   "file_extension": ".py",
   "mimetype": "text/x-python",
   "name": "python",
   "nbconvert_exporter": "python",
   "pygments_lexer": "ipython3",
   "version": "3.6.9"
  }
 },
 "nbformat": 4,
 "nbformat_minor": 2
}
