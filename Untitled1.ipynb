{
 "cells": [
  {
   "cell_type": "code",
   "execution_count": 1,
   "metadata": {},
   "outputs": [],
   "source": [
    "def fib(k):\n",
    "    if k < 2:\n",
    "        return k\n",
    "    else:\n",
    "        return fib(k-1)+fib(k-2)"
   ]
  },
  {
   "cell_type": "code",
   "execution_count": 9,
   "metadata": {},
   "outputs": [
    {
     "name": "stdout",
     "output_type": "stream",
     "text": [
      " 0      1      1\n",
      " 1      4      4\n",
      " 2      9      9\n",
      " 3     25     25\n",
      " 4     64     64\n",
      " 5    169    169\n",
      " 6    441    441\n",
      " 7   1156   1156\n",
      " 8   3025   3025\n",
      " 9   7921   7921\n"
     ]
    }
   ],
   "source": [
    "for k in range(10):\n",
    "    print(\"%2d %6d %6d\"%(k,fib(2*k+2) + fib(k)**2, fib(k+2)**2))"
   ]
  },
  {
   "cell_type": "markdown",
   "metadata": {},
   "source": [
    "Suppose\n",
    "$\\newcommand{\\nxt}{\\curvearrowright}$\n",
    "$$f(2k+1) = f(k)^2 + f(k+1)^2$$\n",
    "$$f(2k+2) + f(k)^2 = f(k+2)^2$$\n",
    "\n",
    "Then it is easy to check that\n",
    "$$f(2(k^\\nxt)+1) = f(k^\\nxt)^2  + f(k^\\nxt + 1)^2$$\n",
    "\n",
    "That is,\n",
    "$$\\begin{align*}\n",
    "f(2k^\\nxt + 1) &= f(2k+3)\\\\\n",
    "                 &= f(2k+2) + f(k2+1)\\\\\n",
    "                 &= f(2k+2) + f(k)^2 + f(k+1)^2\\\\\n",
    "                 &= f(k+2)^2 + f(k+1)^2\\\\\n",
    "                 &= f(k^\\nxt)^2 + f(k^\\nxt + 1)^2.\n",
    "\\end{align*}\n",
    "$$\n",
    "\n",
    "Now we can also prove that\n",
    "$$f(2k^nxt+2) + f(k^\\nxt)^2 = f(k^\\nxt+2)^2.$$\n",
    "\n",
    "$$\\begin{align*}\n",
    "f(2k^\\nxt + 2) +f(k^\\nxt)^2 \n",
    "                 &= f(2k^\\nxt+1) + f(2k^\\nxt) + f(k^\\nxt)^2\\\\\n",
    "                 &= f(k^\\nxt)^2 + f(k^\\nxt + 1)^2 + f(2k^\\nxt) + f(k^\\nxt)^2\\\\\n",
    "                 &= f(k^\\nxt)^2 + f(k^\\nxt + 1)^2 + f(2k+2) + f(k^\\nxt)^2\\\\\n",
    "                 &= f(k^\\nxt)^2 + f(k^+2)^2 + f(2k+2) + f(k^\\nxt)^2\\\\\n",
    "                 &= f(k^\\nxt)^2 + \\left(f(k+1)+f(k)\\right)^2 + f(2k+2) + f(k^\\nxt)^2\\\\\n",
    "                 &= f(k^\\nxt)^2 + f(k+1)^2 + 2f(k+1)f(k) + f(k)^2 + f(2k+2) + f(k^\\nxt)^2\\\\\n",
    "                 &= f(k^\\nxt)^2 + f(k+1)^2 + 2f(k+1)f(k) + f(k+2)^2 + f(k^\\nxt)^2\\\\\n",
    "                 &= f(k^\\nxt)^2 + f(k+1)^2 + 2f(k+1)f(k) + f(2k^\\nxt + 1)\\\\\n",
    "                 &= f(k^\\nxt)^2 + f(k+1)^2 + 2f(k+1)f(k) + f(2k + 2) + f(2k+1)\\\\\n",
    "                 &= f(k^\\nxt)^2 + f(k+1)^2 + 2f(k+1)f(k) + f(2k + 2) + f(k)^2 + f(k+1)^2\\\\                      &= f(k^\\nxt)^2 + f(k+1)^2 + 2f(k+1)f(k) + f(k + 2)^2 + f(k+1)^2\\\\\n",
    "                 &= f(k+2)^2 + 2f(k+1)f(k+1) + 2f(k+1)f(k) + f(k+1)^2\\\\\n",
    "                 &= f(k+2)^2 + 2\\left(f(k+1)f(k+1) + f(k+1)f(k)\\right) + f(k+1)^2\\\\\n",
    "                 &= f(k+2)^2 + 2\\left(f(k+1) + f(k))\\right)f(k+1) + f(k+1)^2\\\\\n",
    "                 &= (f(k+2)^2+2f(k+2)f(k+1)+f(k+1)^2\\\\\n",
    "                 &= f(k+3)^2\\\\\n",
    "                 &= f(k^\\nxt+2)\n",
    "\\end{align*}\n",
    "$$\n",
    "\n",
    "\n"
   ]
  },
  {
   "cell_type": "code",
   "execution_count": null,
   "metadata": {},
   "outputs": [],
   "source": []
  }
 ],
 "metadata": {
  "kernelspec": {
   "display_name": "Python 3",
   "language": "python",
   "name": "python3"
  },
  "language_info": {
   "codemirror_mode": {
    "name": "ipython",
    "version": 3
   },
   "file_extension": ".py",
   "mimetype": "text/x-python",
   "name": "python",
   "nbconvert_exporter": "python",
   "pygments_lexer": "ipython3",
   "version": "3.6.9"
  }
 },
 "nbformat": 4,
 "nbformat_minor": 2
}
