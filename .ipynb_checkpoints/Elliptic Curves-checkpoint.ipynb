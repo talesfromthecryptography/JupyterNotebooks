{
 "cells": [
  {
   "cell_type": "markdown",
   "metadata": {},
   "source": [
    "# Elliptic Curves\n",
    "\n",
    "\n",
    "In a general field $K$, a _curve_ is the set of roots of a polynomial in two variables.\n",
    "\n",
    "Curves are not very curvy in a finite field, but that doesn't stop us.\n",
    "\n",
    "Example, in $\\mathbb{Z}_{31}$, the unit circle $x^2+y^2 = 1$ is "
   ]
  },
  {
   "cell_type": "code",
   "execution_count": 10,
   "metadata": {},
   "outputs": [
    {
     "name": "stdout",
     "output_type": "stream",
     "text": [
      "{(11, 2), (4, 27), (20, 29), (24, 13), (10, 26), (24, 18), (30, 0), (4, 4), (13, 7), (21, 5), (26, 21), (21, 26), (13, 24), (18, 24), (2, 20), (7, 18), (29, 11), (27, 4), (5, 21), (0, 30), (1, 0), (0, 1), (10, 5), (5, 10), (27, 27), (20, 2), (29, 20), (7, 13), (2, 11), (11, 29), (18, 7), (26, 10)}\n",
      " *                                                            \n",
      "                       *                 *                    \n",
      "                                                              \n",
      "         *                                             *      \n",
      "                     *                     *                  \n",
      "                                                              \n",
      "                           *         *                        \n",
      "                                                              \n",
      "                                                              \n",
      "           *                                         *        \n",
      "     *                                                     *  \n",
      "                                                              \n",
      "               *                                 *            \n",
      "                                                              \n",
      "                                                              \n",
      "                                                              \n",
      "                                                              \n",
      "               *                                 *            \n",
      "                                                              \n",
      "     *                                                     *  \n",
      "           *                                         *        \n",
      "                                                              \n",
      "                                                              \n",
      "                           *         *                        \n",
      "                                                              \n",
      "                     *                     *                  \n",
      "         *                                             *      \n",
      "                                                              \n",
      "                       *                 *                    \n",
      " *                                                            \n",
      "   *                                                         *\n"
     ]
    }
   ],
   "source": [
    "circle = set([])\n",
    "for x in range(31):\n",
    "    for y in range(31):\n",
    "        if (x**2 + y**2)%31 == 1:\n",
    "            circle.add((x,y))\n",
    "print(circle)\n",
    "\n",
    "s = \"\"\n",
    "for y in range(31):\n",
    "    s = \"\"\n",
    "    for x in range(31):\n",
    "        if (x,30-y) in circle:\n",
    "            s += \" *\"\n",
    "        else:\n",
    "            s += \"  \"\n",
    "    print(s)"
   ]
  },
  {
   "cell_type": "markdown",
   "metadata": {},
   "source": [
    "The _projective plane_ over $K$ consists of all lines in $K^3$ that pass through $0$.\n",
    "Where a _line_ is a set of points $\\{(at, bt, ct) : t \\in K\\}$.\n",
    "\n",
    "Let's figure out what the plane is in $\\mathbb Z_{11}$."
   ]
  },
  {
   "cell_type": "code",
   "execution_count": null,
   "metadata": {},
   "outputs": [],
   "source": []
  },
  {
   "cell_type": "code",
   "execution_count": 12,
   "metadata": {},
   "outputs": [],
   "source": [
    "P_K = {}\n",
    "for a in range(11):\n",
    "    for b in range(11):\n",
    "        for c in range(11):\n",
    "            P_K[(a,b,c)] = set(((a*t)%11,(b*t)%11, (c*t)%11) for t in range(11))"
   ]
  },
  {
   "cell_type": "code",
   "execution_count": 20,
   "metadata": {},
   "outputs": [
    {
     "data": {
      "text/plain": [
       "{(0, 0, 0),\n",
       " (0, 1, 7),\n",
       " (0, 2, 3),\n",
       " (0, 3, 10),\n",
       " (0, 4, 6),\n",
       " (0, 5, 2),\n",
       " (0, 6, 9),\n",
       " (0, 7, 5),\n",
       " (0, 8, 1),\n",
       " (0, 9, 8),\n",
       " (0, 10, 4)}"
      ]
     },
     "execution_count": 20,
     "metadata": {},
     "output_type": "execute_result"
    }
   ],
   "source": [
    "P_K[(0,2,3)]"
   ]
  },
  {
   "cell_type": "markdown",
   "metadata": {},
   "source": [
    "So there are lots of duplicates. How do we know if $(x_1,y_1,z_1)$ and $(x_2,y_2,z_2)$ are colinear with $(0,0,0)$.\n",
    "\n",
    "* $(a,b,c)$ is colinear with $(a/c,b/c,1)$ when $c \\neq 0$.\n",
    "* $(a,b,0)$ is colinear with $(a/b,1,0)$ when $b\\neq 0$.\n",
    "* $(a,0,0)$ is colinear with $(0,0,1)$.\n",
    "\n",
    "So we can either take the projective plane to consist of colinear equivalence classes of triples $(x,y,z)$, or as triples $(x,y,1)$, $(x,1,0)$ and $(x,0,0)$.\n",
    "\n",
    "Coordinates $(x,y,z)$ modulo colinearity are called _homogeneous_ coordinates.\n",
    "\n",
    "I will write $p,q,r$ for points in the projective plane.\n",
    "\n",
    "## Projective curves\n",
    "\n",
    "A curve in the projective plane is a curve for a homogeneous polynomial:\n",
    "\n",
    "$$0 = \\sum_{i+j+k=d} a_{ijk} x^iy^kz^j.$$\n",
    "\n",
    "Note that each term has the same degree. The roots $p=(x,y,z)$ of this polynomial are the homogeneous coordinates of the projective curve.\n",
    "\n",
    "Notice that of $(x,y,z) = (\\lambda x,\\lambda y, \\lambda z)$, and $0=P(x,y,z)$ then $P(\\lambda x,\\lambda y, \\lambda z)$ for any homogeneous polynomial $P$.\n",
    "So \\{p {:} 0=P(p)\\}$ is meaningfully a _curve_.\n",
    "\n",
    "If $d=3$, (called genus 1, for other reasons) the curve will intersect any projective line (roots of a homogeneous linear polynomial $0=ax+by+cz$) in at most three points.\n",
    "\n",
    "Consider the polynomial $y^2 = x^3 + ax + b$, homogenized as \n",
    "$$y^2z = x^3 + axz^2 + bz^3$$\n",
    "Then in terms of normalized coordinates\n",
    "* $(x,y,1)$ solves iff $y^2 = x^3 + ax + b$,\n",
    "* $(x,1,0)$ solves iff $x=0$\n",
    "* $(1,0,0)$ does not solve.\n",
    "\n",
    "So the curve defined here has just two kinds of solutions: \"normal\" solutions\n",
    "and one \"point at infinity\" $(0,1,0)$.\n"
   ]
  },
  {
   "cell_type": "markdown",
   "metadata": {},
   "source": [
    "Suppose $$y_p^2 = x_p^3 + ax_p + b$$\n",
    "and\n",
    "$$y_q^2 = x_q^3 + ax_q + b.$$\n",
    "Then the pairs that are colinear with $(x_p,y_p)$ and $(x_q,y_q)$ satisfy\n",
    "$$(x- x_q)(y_p - y_q) = (y-y_q)(x_p-x_q).$$\n",
    "\n",
    "So  $y = \\lambda x + c$ where $\\lambda = (y_p-y_q)/(x_p-x_q)$\n",
    "and $c = y_q - \\lambda x_q.$\n",
    "\n",
    "We need to find a pair $r=(x_r,y_r)$ that is colinear with $p$ and $q$, distinct from $p$ and $q$, and that lies on the curve: \n",
    "$y_r^2 = x_r^3 + ax_r + b.$\n",
    "\n",
    "So substituting, we just need to find $x_r$ satisfying\n",
    "$$(\\lambda x_r + c)^2 = x_r^3 + ax_r + b.$$\n",
    "\n",
    "That is $$\\lambda^2x_r^2 + 2\\lambda x_r c + c^2 = x_r^3 + ax_r + b.$$\n",
    "Or\n",
    "$$0 = x_r^3 -\\lambda^2x_r^2 + (a-2\\lambda c)x_r + b - c^2.$$\n",
    "$$0 = x_r^3 -\\lambda^2x_r^2 + (a-2\\lambda (y_q-\\lambda x_q))x_r + b - (y_q - \\lambda x_q)^2.$$\n",
    "$$0 = x_r^3 -\\lambda^2x_r^2 + (a-2\\lambda y_q-2\\lambda^2 x_q)x_r + b - y_q^2 - 2y_q\\lambda x_q + \\lambda^2 x_q^2.$$\n",
    "\n",
    "If the coefficients are in $GF(2^k)$, then all of the $2$ multiples cancel, so\n",
    "$$0 = x_r^3 -\\lambda^2x_r^2 + ax_r + b - y_q^2  \\lambda^2 x_q^2.$$\n",
    "\n",
    "Let $x_r = \\lambda^2 - x_q - x_p$ and $y_r = \\lambda(x_q - x_r) - y_q$\n",
    "\n"
   ]
  },
  {
   "cell_type": "code",
   "execution_count": null,
   "metadata": {},
   "outputs": [],
   "source": []
  }
 ],
 "metadata": {
  "kernelspec": {
   "display_name": "Python 3",
   "language": "python",
   "name": "python3"
  },
  "language_info": {
   "codemirror_mode": {
    "name": "ipython",
    "version": 3
   },
   "file_extension": ".py",
   "mimetype": "text/x-python",
   "name": "python",
   "nbconvert_exporter": "python",
   "pygments_lexer": "ipython3",
   "version": "3.6.9"
  }
 },
 "nbformat": 4,
 "nbformat_minor": 2
}
