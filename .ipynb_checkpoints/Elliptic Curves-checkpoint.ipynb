{
 "cells": [
  {
   "cell_type": "markdown",
   "metadata": {},
   "source": [
    "# Elliptic Curves\n",
    "\n",
    "Elliptic curves are interesting for number theory and algobraic geometry, but for cryptography they are used only as a source of complicated representations of finite Abelian groups, in which the discrete logarithm problem is difficult.\n",
    "\n",
    "The idea is to determine a distinguished element $o$ belonging to some collection $P$, and a set $E$ of triples $(p,q,r)$ belonging to $P$ so that $p+q+r=o$ defines an Abelian group. It is not hard to see that these triples need to satisfy a few properties:\n",
    "1. $(o,o,o)\\in E$\n",
    "2. $(p,q,r)\\in E$ implies $(p,r,q)\\in E$\n",
    "3. $(p,q,r)\\in E$ implies $(q,p,r)\\in E$\n",
    "4. For each $p,q\\in P$ there is a unique $r$ to that $(p,q,r)\\in E$.\n",
    "\n",
    "These almost determine a group.\n",
    "* $-p$ is the unique element so that $(p,o,-p)\\in E$.\n",
    "* $o$ is the unit,\n",
    "* $p+q = -r$ when $(p,q,r)\\in E$.\n",
    "\n",
    "The only problem is that $+$ might not be associative. To ensure that, $E$ must also satisfy the following complicated condition.\n",
    "5. $(p,q,r), (r,s,t), (t,-q,u), (u,-s,v)\\in E$ implies $p=v$.\n",
    "\n",
    "**Exercise:** Prove that for any set $P$ and any collection of triples $E\\subseteq P^3$,\n",
    "if $E$ satisfies the conditions 1 to 5, then $E$ determines an Abelian group that satisfies\n",
    "$p+q+r=o$ if and only if $(p,q,r)\\in E$.\n"
   ]
  },
  {
   "cell_type": "markdown",
   "metadata": {},
   "source": [
    "## Curves\n",
    "\n",
    "In a general field $K$, a _curve_ is the set of roots of a polynomial in two variables.\n",
    "\n",
    "Curves are not very curvy in a finite field, but that doesn't stop us.\n",
    "\n",
    "Example, in $\\mathbb{Z}_{31}$, the unit circle $x^2+y^2 = 1$ is "
   ]
  },
  {
   "cell_type": "code",
   "execution_count": 23,
   "metadata": {},
   "outputs": [
    {
     "name": "stdout",
     "output_type": "stream",
     "text": [
      "{(1, 2), (7, 0), (9, 1), (10, 2), (2, 1), (0, 7), (2, 10), (9, 10), (1, 9), (0, 4), (10, 9), (4, 0)}\n",
      "     *             *  \n",
      "   *                 *\n",
      "                      \n",
      " *                    \n",
      "                      \n",
      "                      \n",
      " *                    \n",
      "                      \n",
      "   *                 *\n",
      "     *             *  \n",
      "         *     *      \n"
     ]
    }
   ],
   "source": [
    "p = 31\n",
    "radius = 1\n",
    "circle = set([])\n",
    "for x in range(p):\n",
    "    for y in range(p):\n",
    "        if (x**2 + y**2)%p == radius:\n",
    "            circle.add((x,y))\n",
    "print(circle)\n",
    "\n",
    "s = \"\"\n",
    "for y in range(p):\n",
    "    s = \"\"\n",
    "    for x in range(p):\n",
    "        if (x,p-1-y) in circle:\n",
    "            s += \" *\"\n",
    "        else:\n",
    "            s += \"  \"\n",
    "    print(s)"
   ]
  },
  {
   "cell_type": "markdown",
   "metadata": {},
   "source": [
    "The _projective plane_ over $K$ consists of all lines in $K^3$ that pass through $0$.\n",
    "Where a _line_ is a set of points $\\{(at, bt, ct) : t \\in K\\}$.\n",
    "\n",
    "Let's figure out what the plane is in $\\mathbb Z_{11}$."
   ]
  },
  {
   "cell_type": "code",
   "execution_count": null,
   "metadata": {},
   "outputs": [],
   "source": []
  },
  {
   "cell_type": "code",
   "execution_count": 28,
   "metadata": {},
   "outputs": [],
   "source": [
    "p = 11\n",
    "P_K = {}\n",
    "for a in range(p):\n",
    "    for b in range(p):\n",
    "        for c in range(p):\n",
    "            P_K[(a,b,c)] = set(((a*t)%p,(b*t)%p, (c*t)%p) for t in range(p))"
   ]
  },
  {
   "cell_type": "code",
   "execution_count": 29,
   "metadata": {},
   "outputs": [
    {
     "data": {
      "text/plain": [
       "{(0, 0, 0),\n",
       " (1, 2, 3),\n",
       " (2, 4, 6),\n",
       " (3, 6, 9),\n",
       " (4, 8, 1),\n",
       " (5, 10, 4),\n",
       " (6, 1, 7),\n",
       " (7, 3, 10),\n",
       " (8, 5, 2),\n",
       " (9, 7, 5),\n",
       " (10, 9, 8)}"
      ]
     },
     "execution_count": 29,
     "metadata": {},
     "output_type": "execute_result"
    }
   ],
   "source": [
    "P_K[(9,7,5)]"
   ]
  },
  {
   "cell_type": "markdown",
   "metadata": {},
   "source": [
    "So there are lots of duplicates.\n",
    "\n",
    "How do we know if $(x_1,y_1,z_1)$ and $(x_2,y_2,z_2)$ are colinear with $(0,0,0)$?\n",
    "\n",
    "* $(a,b,c)$ is colinear with $(a/c,b/c,1)$ when $c \\neq 0$.\n",
    "* $(a,b,0)$ is colinear with $(a/b,1,0)$ when $b\\neq 0$.\n",
    "* $(a,0,0)$ is colinear with $(1,0,0)$.\n",
    "\n",
    "So we can either take the projective plane to consist of colinear equivalence classes of triples $(x,y,z) \\neq (0,0,0)$, or as triples $(x,y,1)$, $(x,1,0)$ and $(x,0,0)$, or to cocsist of abstract \"points\" and \"lines\" that satisfy various axioms.\n",
    "\n",
    "To distinguish between 3d Cartesian coordinates $(x,y,z)$ and the corresponding point in the projective plane, one write $[x:y:z]$. That is,\n",
    "$[x:y:z] = \\{(\\lambda x,\\lambda y,\\lambda z)\\ :\\ \\lambda \\in K\\}$.\n",
    "$[x:y:z}$ is called the _homogeneous coordinates_ of a projective point.\n",
    "\n",
    "__Important:__ A projective point $[x:y:z]$ must define a line in $K^3$, so $[0:0:0]$ is not the homogeneous coordinates of a point.\n",
    "\n",
    "For any point $[x:y:z]$, projectivity says exactly that $[\\lambda x: \\lambda y:\\lambda z] = [x:y:z]$ for any non-zero $\\lambda\\in K$.\n",
    "\n",
    "I will write $p,q,r$ for points in the projective plane.\n",
    "\n",
    "## Projective curves\n",
    "\n",
    "A _curve_ in the projective plane is a curve for a homogeneous polynomial:\n",
    "\n",
    "$$0 = \\sum_{i+j+k=d} a_{ijk} x^iy^kz^j.$$\n",
    "\n",
    "Note that each term has the same degree. The roots $(x,y,z)$ of this polynomial are the homogeneous coordinates of the projective curve.\n",
    "\n",
    "Notice that if $0=P(x,y,z)$ then $0=P(\\lambda x,\\lambda y, \\lambda z)$ for any homogeneous polynomial $P$.\n",
    "\n",
    "So we can write $0=P(p)$ meaningfully when $p$ is a projective point,\n",
    "and the set $\\{p {\\ :\\ } 0=P(p)\\}$ legitimately deserves to be called a _projective curve_.\n"
   ]
  },
  {
   "cell_type": "markdown",
   "metadata": {},
   "source": [
    "# Two curves of special interest\n",
    "Two classes of curves are particularly interesting for cryptography.\n",
    "\n",
    "$$y^2 = x^3 + ax + b$$\n",
    "and\n",
    "$$y^2 + xy = x^3 + ax + b$$\n",
    "\n",
    "More general curves could be used in principle, but there are both theoretical and practical reasons to use these. \n",
    "\n",
    "* Historically, cubics $x^3 + ax +b$ were the first to have a _cubic_ formula discovered (by Cardano). Analogous to the quadratic formula, this yields a description of all the complex roots, and a test for multiplicity of roots. Namely, if $4a^3 + 27b^2 \\neq 0$, then this cubic polynomial has three distinct complex roots. This is key to defining a group on the roots of the projective curve.\n",
    "* Cardano's formula also yields an easy way to calculate roots of the curves obtained by transforming the given curve with an affine transformation. And these, too, are key to defining a group.\n",
    "\n",
    "The reason we can't always use the simpler curve is that it is not well-behaved when $K$ has characteristic $2$ or $3$. In that case either $4a^3 = 0$ or $27b^2=0$, and that's bad. Roughly, the resulting group would have special structure that would reduce the search space for the discrete logarithm problem. \n",
    "\n",
    "So the two types of curves are used as follows:\n",
    "* In fields $GF(p)$ for prime $p>3$, the simpler form is used: $y^2 = x^3+ax + b$.\n",
    "* In fields $GF(2^n)$, the more complicated form is used: $y^2 + xy = x^3 + ax + b$.\n",
    "In any case, non-singularity is important, so $a$ and $b$ have to be chosen so that $4a^3 + 27b^2 \\neq 0$.\n"
   ]
  },
  {
   "cell_type": "markdown",
   "metadata": {},
   "source": [
    "\n",
    "## Solutions\n",
    "\n",
    "We can homogenize both kinds of curve as\n",
    "\n",
    "$$y^2z = x^3 + axz^2 + bz^3$$\n",
    "and\n",
    "$$y^2z + xyz = x^3 + axz^2 + bz^3$$\n",
    "where $4a^3 + 27b^2 \\neq 0$.\n",
    "\n",
    "Then in terms of _homogeneous_ coordinates\n",
    "* When $z\\neq 0$, $[x:y:z]$ lies on the projective curve iff $x$ and $y$ solve the original equation,\n",
    "* $[x:y:0]$ lies on the curve iff $x=0$\n",
    "\n",
    "So the curves defined here have just two kinds of points: \n",
    "* normal solutions: $z\\neq 0$ and $(x,y)$ solves the equation,\n",
    "* one \"point at infinity\" $[0:y:0]$.\n",
    "\n",
    "Note: Strickly speaking, geometrically, the \"point at infinity\" is not special, even though it looks to be. A change of coordinates (multiplication of coordinates by a unitary $3\\times 3$ matrix) will preserve the general properties of the curve, but will \"move\" to point at infinity."
   ]
  },
  {
   "cell_type": "markdown",
   "metadata": {},
   "source": [
    "## Colinearity\n",
    "\n",
    "We will need to understand what it means for three projective points to be \"colinear\". In Cartesian planar geometry, two points $(x_p,y_p)$, $(x_q,y_q)$ determine a line (actually an affine curve) described by solutions of \n",
    "$$(x - x_p)(y_q-y_p) = (x_q-x_p)(y-y_p).$$\n",
    "The homogenized version of this is\n",
    "$$(x-zx_p)(y_q-y_p)= (y-zy_p)(x_q-x_p).$$\n",
    "So the projective line passing through $[x_p:y_p:1]$ and $[x_q:y_q:1]$ corresponds to coordinates $[x:y:z]$ satisfying this equation.\n",
    "\n",
    "In case $z=0$, this is\n",
    "$$x(y_q-y_p) = y(x_q-x_p)$$\n",
    "In case $z=1$, the equation is the usual colinearity on Euclidean terms.\n"
   ]
  },
  {
   "cell_type": "markdown",
   "metadata": {},
   "source": [
    "## Back to our curves\n",
    "\n",
    "Our curves exhibit some symmetries that can be exploited to determine a group.\n",
    "The idea is that a distinguished point $o$ on the curve and a certain system of colinear triples $(p,q,r)$ capture symmetries of the curve under affine transformations, so that \n",
    "a group arises by declaring $o$ to be the unit, and requiring $p+q+r = o$ whenever $(p,q,r)$ is a triple in our system.\n",
    "\n",
    "Geometrically, the choice of $o$ does not matter. But we already know that the projective curve defined by $y^2=x^3+ax+ b$ has a \"point at infinity\" $[0:1:0]$. We use that as our distinguished element $o$.\n",
    "\n",
    "To find the system of triples, for each $p\\neq q$ on the curve, we find another point $r$ on the curve so that $(p,q,r)$ are colinear. All such triples are part of the system. We can not guarantee that $r$ is distinct, but if it equals $p$ or $q$, then the way it is constructed means that it is essentially a \"double root\".\n",
    "\n",
    "In addition, for each $p\\neq o$, we find $q$ so that $(p,q,p)$ is one of our triples. \n",
    "We add the triples $(p,p,q)$ to the system. \n",
    "\n",
    "So for each $p\\neq o$, $(p,r,o)$ is one of our triples. We declare $-p=r$. \n",
    "And whenever $(p,q,r)$ is a triple, we declare $p+q = -r$. \n",
    "\n",
    "\n",
    "### The simpler case\n",
    "\n",
    "\n",
    "\n",
    "Suppose $p=[x_p:y_p:z_p]$ and $q=[x_q:y_q:z_q]$ are distinct roots of (the homogenized version of)\n",
    "$$y^2 + = x^3 + ax + b.$$\n",
    "Remember, for $p$ this means that either $z_p\\neq 0$ and $(x_p,y_p)$ solve the equation exactly, or $p=[0:y_p:0]$ for any non-zero $y_p$.\n",
    "\n",
    "We look for another root that is colinear with $p$ and $q$. Because the defining polynomial is 3rd degree there can be at most one other root.\n",
    "\n",
    "There are a few cases to consider.\n",
    "\n",
    "* If $p=[0:y_p:0]$, then $q\\neq[0:1:0]$, so $q$ must have coordinates $[x_q:y_q:1]$\n",
    "where $y_q^2 = x_q^3 + ax_q + b$. Clearly, $[x_q:-y_q:1]$ is also root, and \n",
    "$$(x_q-z_qx_p)(y_q-y_p)= (y_q-z_qy_p)(x_q-x_p).$$\n",
    "In other words $p=[0:y_p:0]$, $q=[x_q:y_q:1]$ and $r=[x_q:-y_q:1]$ are colinear roots.\n",
    "Note that in general, these are distinct unless $y_q=0$.\n",
    "If $y_q=0$, then the $q$ must actually satisfy\n",
    "$$0=x_q^3 + ax_q +b.$$\n",
    "But in that case, there is no other point on the curve that is colinear with $[x_q:0:1]$ and $[0:1:0]$. (Check this for yourself.)\n",
    "\n",
    "* If $p=[x_p:y_p:1]$ and $q=[x_q:y_q:1]$ and $x_p=x_q$, then $y_p^2 = y_q^2$. \n",
    "So $y_p=-y_q$ and the third colinear root must be $[0:1:0]$.\n",
    "\n",
    "* If $p=[x_p:y_p:1]$ and $q=[x_q:y_q:1]$ and $x_p\\neq x_q$, then $y_p\\neq 0$ and $y_q\\neq 0$. Let\n",
    "$$\\lambda = \\frac{y_q-y_p}{x_q-x_p}$$\n",
    "$$x_r = \\lambda^2 - (x_p+ x_q)$$\n",
    "$$y_r = \\lambda(x_r-x_p)-y_p$$\n",
    "Then $r = [x_r:y_r:1]$ is colinear and lies on the curve. (Check this for yourself.)\n",
    "\n",
    "* It is possible that in the last case $r$ duplicates one of the two. For example, $r=q$.\n",
    "But then it turns out that there are also no other colinear points on the curve. (Again, check.) Moreover, then $r$ and $p$ are related by the following formulas:\n",
    "$$\\lambda = \\frac{3x_r^2 + a}{2y_r}$$\n",
    "$$x_p = \\lambda^2 - 2x_r$$\n",
    "$$y_p = \\lambda(x_p-x_r) + y_r.$$\n",
    "\n"
   ]
  },
  {
   "cell_type": "code",
   "execution_count": null,
   "metadata": {},
   "outputs": [],
   "source": []
  }
 ],
 "metadata": {
  "kernelspec": {
   "display_name": "Python 3",
   "language": "python",
   "name": "python3"
  },
  "language_info": {
   "codemirror_mode": {
    "name": "ipython",
    "version": 3
   },
   "file_extension": ".py",
   "mimetype": "text/x-python",
   "name": "python",
   "nbconvert_exporter": "python",
   "pygments_lexer": "ipython3",
   "version": "3.6.9"
  }
 },
 "nbformat": 4,
 "nbformat_minor": 2
}
